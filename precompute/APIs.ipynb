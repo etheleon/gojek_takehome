{
 "cells": [
  {
   "cell_type": "code",
   "execution_count": 6,
   "metadata": {
    "ExecuteTime": {
     "end_time": "2019-04-27T12:02:58.429675Z",
     "start_time": "2019-04-27T12:02:56.809213Z"
    },
    "tags": [
     "hide"
    ]
   },
   "outputs": [],
   "source": [
    "from IPython.core.interactiveshell import InteractiveShell \n",
    "InteractiveShell.ast_node_interactivity = \"all\"\n",
    "\n",
    "import gc\n",
    "import os\n",
    "import re\n",
    "import time\n",
    "\n",
    "\n",
    "import s2sphere\n",
    "from tqdm import tqdm_notebook\n",
    "os.environ[\"GOOGLE_APPLICATION_CREDENTIALS\"] = \"/work/github/gojek_takehome/infra/creds/serviceaccount.json\"\n",
    "\n",
    "import pandas as pd\n",
    "\n",
    "from google.cloud import bigquery\n",
    "from google.cloud import storage\n",
    "client = bigquery.Client()\n",
    "storage_client = storage.Client()\n",
    "\n",
    "%load_ext rpy2.ipython\n",
    "%load_ext google.cloud.bigquery"
   ]
  },
  {
   "cell_type": "markdown",
   "metadata": {},
   "source": [
    "# Problem Statement\n",
    "\n",
    "For this take home, we will be building a microservice with 3 endpoints. The results they return will be based on the following tables found in GCP's BIGQUERY public data sets.\n",
    "\n",
    "\n",
    "| Tables |\n",
    "| --- |\n",
    "| tlc_green_trips_2014 |\n",
    "| tlc_green_trips_2015 |\n",
    "| tlc_green_trips_2016 |\n",
    "| tlc_green_trips_2017 |\n",
    "| tlc_yellow_trips_2015 |\n",
    "| tlc_yellow_trips_2016 |\n",
    "| tlc_yellow_trips_2017 |"
   ]
  },
  {
   "cell_type": "code",
   "execution_count": 4,
   "metadata": {
    "ExecuteTime": {
     "end_time": "2019-04-25T03:27:14.082103Z",
     "start_time": "2019-04-25T03:27:14.052262Z"
    },
    "tags": [
     "hideall"
    ]
   },
   "outputs": [
    {
     "data": {
      "text/plain": [
       "['tlc_green_trips_2014',\n",
       " 'tlc_green_trips_2015',\n",
       " 'tlc_green_trips_2016',\n",
       " 'tlc_green_trips_2017',\n",
       " 'tlc_yellow_trips_2015',\n",
       " 'tlc_yellow_trips_2016',\n",
       " 'tlc_yellow_trips_2017']"
      ]
     },
     "execution_count": 4,
     "metadata": {},
     "output_type": "execute_result"
    }
   ],
   "source": [
    "# Green taxis\n",
    "greens = \"tlc_green_trips_{YEAR}\"\n",
    "tables = [greens.format(YEAR=year) for year in [2014, 2015, 2016, 2017]]\n",
    "# Yellow taxis\n",
    "yellows = \"tlc_yellow_trips_{YEAR}\"\n",
    "tables.extend([yellows.format(YEAR=year) for year in [2015, 2016, 2017]])\n",
    "tables"
   ]
  },
  {
   "cell_type": "markdown",
   "metadata": {},
   "source": [
    "Lets check out how the table looks like:"
   ]
  },
  {
   "cell_type": "code",
   "execution_count": 10,
   "metadata": {
    "ExecuteTime": {
     "end_time": "2019-04-20T10:02:20.472572Z",
     "start_time": "2019-04-20T10:02:16.078859Z"
    },
    "tags": [
     "hide"
    ]
   },
   "outputs": [
    {
     "data": {
      "text/html": [
       "<div>\n",
       "<style>\n",
       "    .dataframe thead tr:only-child th {\n",
       "        text-align: right;\n",
       "    }\n",
       "\n",
       "    .dataframe thead th {\n",
       "        text-align: left;\n",
       "    }\n",
       "\n",
       "    .dataframe tbody tr th {\n",
       "        vertical-align: top;\n",
       "    }\n",
       "</style>\n",
       "<table border=\"1\" class=\"dataframe\">\n",
       "  <thead>\n",
       "    <tr style=\"text-align: right;\">\n",
       "      <th></th>\n",
       "      <th>vendor_id</th>\n",
       "      <th>pickup_datetime</th>\n",
       "      <th>dropoff_datetime</th>\n",
       "      <th>store_and_fwd_flag</th>\n",
       "      <th>rate_code</th>\n",
       "      <th>pickup_longitude</th>\n",
       "      <th>pickup_latitude</th>\n",
       "      <th>dropoff_longitude</th>\n",
       "      <th>dropoff_latitude</th>\n",
       "      <th>passenger_count</th>\n",
       "      <th>...</th>\n",
       "      <th>mta_tax</th>\n",
       "      <th>tip_amount</th>\n",
       "      <th>tolls_amount</th>\n",
       "      <th>ehail_fee</th>\n",
       "      <th>total_amount</th>\n",
       "      <th>payment_type</th>\n",
       "      <th>distance_between_service</th>\n",
       "      <th>time_between_service</th>\n",
       "      <th>trip_type</th>\n",
       "      <th>imp_surcharge</th>\n",
       "    </tr>\n",
       "  </thead>\n",
       "  <tbody>\n",
       "    <tr>\n",
       "      <th>0</th>\n",
       "      <td>1</td>\n",
       "      <td>2014-06-07 12:26:15</td>\n",
       "      <td>2014-06-07 13:09:31</td>\n",
       "      <td>N</td>\n",
       "      <td>1</td>\n",
       "      <td>-73.870522</td>\n",
       "      <td>40.733963</td>\n",
       "      <td>-73.737892</td>\n",
       "      <td>40.754864</td>\n",
       "      <td>1</td>\n",
       "      <td>...</td>\n",
       "      <td>0.5</td>\n",
       "      <td>0.0</td>\n",
       "      <td>0.0</td>\n",
       "      <td>None</td>\n",
       "      <td>29.0</td>\n",
       "      <td>2</td>\n",
       "      <td>None</td>\n",
       "      <td>None</td>\n",
       "      <td>1.0</td>\n",
       "      <td>None</td>\n",
       "    </tr>\n",
       "    <tr>\n",
       "      <th>1</th>\n",
       "      <td>1</td>\n",
       "      <td>2014-12-18 15:28:43</td>\n",
       "      <td>2014-12-18 16:15:25</td>\n",
       "      <td>N</td>\n",
       "      <td>1</td>\n",
       "      <td>-73.967270</td>\n",
       "      <td>40.695385</td>\n",
       "      <td>-73.782303</td>\n",
       "      <td>40.648777</td>\n",
       "      <td>1</td>\n",
       "      <td>...</td>\n",
       "      <td>0.5</td>\n",
       "      <td>8.5</td>\n",
       "      <td>0.0</td>\n",
       "      <td>None</td>\n",
       "      <td>51.0</td>\n",
       "      <td>1</td>\n",
       "      <td>None</td>\n",
       "      <td>None</td>\n",
       "      <td>1.0</td>\n",
       "      <td>None</td>\n",
       "    </tr>\n",
       "    <tr>\n",
       "      <th>2</th>\n",
       "      <td>1</td>\n",
       "      <td>2014-03-23 01:28:58</td>\n",
       "      <td>2014-03-23 01:56:27</td>\n",
       "      <td>N</td>\n",
       "      <td>1</td>\n",
       "      <td>-73.946854</td>\n",
       "      <td>40.692650</td>\n",
       "      <td>-73.989410</td>\n",
       "      <td>40.758247</td>\n",
       "      <td>1</td>\n",
       "      <td>...</td>\n",
       "      <td>0.5</td>\n",
       "      <td>2.5</td>\n",
       "      <td>0.0</td>\n",
       "      <td>None</td>\n",
       "      <td>30.0</td>\n",
       "      <td>1</td>\n",
       "      <td>None</td>\n",
       "      <td>None</td>\n",
       "      <td>NaN</td>\n",
       "      <td>None</td>\n",
       "    </tr>\n",
       "    <tr>\n",
       "      <th>3</th>\n",
       "      <td>1</td>\n",
       "      <td>2014-11-14 17:01:33</td>\n",
       "      <td>2014-11-14 17:36:02</td>\n",
       "      <td>N</td>\n",
       "      <td>1</td>\n",
       "      <td>-74.000198</td>\n",
       "      <td>40.685997</td>\n",
       "      <td>-73.956543</td>\n",
       "      <td>40.747772</td>\n",
       "      <td>1</td>\n",
       "      <td>...</td>\n",
       "      <td>0.5</td>\n",
       "      <td>5.6</td>\n",
       "      <td>0.0</td>\n",
       "      <td>None</td>\n",
       "      <td>33.6</td>\n",
       "      <td>1</td>\n",
       "      <td>None</td>\n",
       "      <td>None</td>\n",
       "      <td>1.0</td>\n",
       "      <td>None</td>\n",
       "    </tr>\n",
       "    <tr>\n",
       "      <th>4</th>\n",
       "      <td>2</td>\n",
       "      <td>2014-06-29 12:57:00</td>\n",
       "      <td>2014-06-29 13:28:33</td>\n",
       "      <td>N</td>\n",
       "      <td>1</td>\n",
       "      <td>-73.954750</td>\n",
       "      <td>40.718643</td>\n",
       "      <td>-73.986366</td>\n",
       "      <td>40.669212</td>\n",
       "      <td>1</td>\n",
       "      <td>...</td>\n",
       "      <td>0.5</td>\n",
       "      <td>0.0</td>\n",
       "      <td>0.0</td>\n",
       "      <td>None</td>\n",
       "      <td>26.0</td>\n",
       "      <td>2</td>\n",
       "      <td>None</td>\n",
       "      <td>None</td>\n",
       "      <td>1.0</td>\n",
       "      <td>None</td>\n",
       "    </tr>\n",
       "  </tbody>\n",
       "</table>\n",
       "<p>5 rows × 23 columns</p>\n",
       "</div>"
      ],
      "text/plain": [
       "  vendor_id     pickup_datetime    dropoff_datetime store_and_fwd_flag  \\\n",
       "0         1 2014-06-07 12:26:15 2014-06-07 13:09:31                  N   \n",
       "1         1 2014-12-18 15:28:43 2014-12-18 16:15:25                  N   \n",
       "2         1 2014-03-23 01:28:58 2014-03-23 01:56:27                  N   \n",
       "3         1 2014-11-14 17:01:33 2014-11-14 17:36:02                  N   \n",
       "4         2 2014-06-29 12:57:00 2014-06-29 13:28:33                  N   \n",
       "\n",
       "   rate_code  pickup_longitude  pickup_latitude  dropoff_longitude  \\\n",
       "0          1        -73.870522        40.733963         -73.737892   \n",
       "1          1        -73.967270        40.695385         -73.782303   \n",
       "2          1        -73.946854        40.692650         -73.989410   \n",
       "3          1        -74.000198        40.685997         -73.956543   \n",
       "4          1        -73.954750        40.718643         -73.986366   \n",
       "\n",
       "   dropoff_latitude  passenger_count      ...       mta_tax  tip_amount  \\\n",
       "0         40.754864                1      ...           0.5         0.0   \n",
       "1         40.648777                1      ...           0.5         8.5   \n",
       "2         40.758247                1      ...           0.5         2.5   \n",
       "3         40.747772                1      ...           0.5         5.6   \n",
       "4         40.669212                1      ...           0.5         0.0   \n",
       "\n",
       "   tolls_amount  ehail_fee  total_amount  payment_type  \\\n",
       "0           0.0       None          29.0             2   \n",
       "1           0.0       None          51.0             1   \n",
       "2           0.0       None          30.0             1   \n",
       "3           0.0       None          33.6             1   \n",
       "4           0.0       None          26.0             2   \n",
       "\n",
       "  distance_between_service  time_between_service  trip_type imp_surcharge  \n",
       "0                     None                  None        1.0          None  \n",
       "1                     None                  None        1.0          None  \n",
       "2                     None                  None        NaN          None  \n",
       "3                     None                  None        1.0          None  \n",
       "4                     None                  None        1.0          None  \n",
       "\n",
       "[5 rows x 23 columns]"
      ]
     },
     "execution_count": 10,
     "metadata": {},
     "output_type": "execute_result"
    }
   ],
   "source": [
    "%%bigquery \n",
    "\n",
    "SELECT * FROM `bigquery-public-data.new_york_taxi_trips.tlc_green_trips_2014` LIMIT 5"
   ]
  },
  {
   "cell_type": "markdown",
   "metadata": {
    "ExecuteTime": {
     "end_time": "2019-04-20T10:06:21.489608Z",
     "start_time": "2019-04-20T10:06:21.479034Z"
    }
   },
   "source": [
    "## Endpoint 1: Total trips per day\n",
    "\n",
    "\n",
    "```bash\n",
    "START_DATE=2019-01-01\n",
    "END_DATE=2019-01-31\n",
    "\n",
    "curl http://${URL}:${PORT}/total_trips?start=${START_DATE}&end=${END_DATE}\n",
    "```\n",
    "\n",
    "Returning\n",
    "\n",
    "```json\n",
    "{\n",
    "   \"data\":[\n",
    "      {\n",
    "         \"date\":\"2019-01-01\",\n",
    "         \"total_trips\":321\n",
    "      },\n",
    "      {\n",
    "         \"date\":\"2019-01-02\",\n",
    "         \"total_trips\":432\n",
    "      },\n",
    "      {\n",
    "         \"date\":\"2019-01-03\",\n",
    "         \"total_trips\":543\n",
    "      },\n",
    "      {\n",
    "         \"date\":\"2019-01-31\",\n",
    "         \"total_trips\":987\n",
    "      }\n",
    "   ]\n",
    "}\n",
    "```\n",
    "\n",
    "Example query:"
   ]
  },
  {
   "cell_type": "code",
   "execution_count": 127,
   "metadata": {
    "ExecuteTime": {
     "end_time": "2019-04-20T11:27:04.307081Z",
     "start_time": "2019-04-20T11:26:57.444475Z"
    }
   },
   "outputs": [
    {
     "data": {
      "text/html": [
       "<div>\n",
       "<style>\n",
       "    .dataframe thead tr:only-child th {\n",
       "        text-align: right;\n",
       "    }\n",
       "\n",
       "    .dataframe thead th {\n",
       "        text-align: left;\n",
       "    }\n",
       "\n",
       "    .dataframe tbody tr th {\n",
       "        vertical-align: top;\n",
       "    }\n",
       "</style>\n",
       "<table border=\"1\" class=\"dataframe\">\n",
       "  <thead>\n",
       "    <tr style=\"text-align: right;\">\n",
       "      <th></th>\n",
       "      <th>date</th>\n",
       "      <th>total_trips</th>\n",
       "      <th>year</th>\n",
       "      <th>taxi_type</th>\n",
       "    </tr>\n",
       "  </thead>\n",
       "  <tbody>\n",
       "    <tr>\n",
       "      <th>0</th>\n",
       "      <td>2014-01-01</td>\n",
       "      <td>25608</td>\n",
       "      <td>2014</td>\n",
       "      <td>green</td>\n",
       "    </tr>\n",
       "    <tr>\n",
       "      <th>1</th>\n",
       "      <td>2014-01-02</td>\n",
       "      <td>19061</td>\n",
       "      <td>2014</td>\n",
       "      <td>green</td>\n",
       "    </tr>\n",
       "    <tr>\n",
       "      <th>2</th>\n",
       "      <td>2014-01-03</td>\n",
       "      <td>13436</td>\n",
       "      <td>2014</td>\n",
       "      <td>green</td>\n",
       "    </tr>\n",
       "    <tr>\n",
       "      <th>3</th>\n",
       "      <td>2014-01-04</td>\n",
       "      <td>23697</td>\n",
       "      <td>2014</td>\n",
       "      <td>green</td>\n",
       "    </tr>\n",
       "    <tr>\n",
       "      <th>4</th>\n",
       "      <td>2014-01-05</td>\n",
       "      <td>20560</td>\n",
       "      <td>2014</td>\n",
       "      <td>green</td>\n",
       "    </tr>\n",
       "  </tbody>\n",
       "</table>\n",
       "</div>"
      ],
      "text/plain": [
       "         date  total_trips  year taxi_type\n",
       "0  2014-01-01        25608  2014     green\n",
       "1  2014-01-02        19061  2014     green\n",
       "2  2014-01-03        13436  2014     green\n",
       "3  2014-01-04        23697  2014     green\n",
       "4  2014-01-05        20560  2014     green"
      ]
     },
     "execution_count": 127,
     "metadata": {},
     "output_type": "execute_result"
    }
   ],
   "source": [
    "%%bigquery\n",
    "\n",
    "WITH num_pickups as (\n",
    "    SELECT \n",
    "        CAST(pickup_datetime AS date) as date,\n",
    "        COUNT(*)  as total_trips,\n",
    "        2014 as year,\n",
    "        'green' AS taxi_type\n",
    "    FROM\n",
    "        `bigquery-public-data.new_york_taxi_trips.tlc_green_trips_2014`\n",
    "    GROUP BY CAST(pickup_datetime AS date)\n",
    ")\n",
    "SELECT \n",
    "    *\n",
    "FROM num_pickups \n",
    "ORDER BY date\n",
    "LIMIT 5"
   ]
  },
  {
   "cell_type": "markdown",
   "metadata": {},
   "source": [
    "We pull the following data using the following function:"
   ]
  },
  {
   "cell_type": "code",
   "execution_count": 3,
   "metadata": {
    "ExecuteTime": {
     "end_time": "2019-04-22T15:48:08.776989Z",
     "start_time": "2019-04-22T15:48:08.755606Z"
    }
   },
   "outputs": [],
   "source": [
    "def get_trips_per_day(tables):\n",
    "    \"\"\"\n",
    "    Gets trip per day\n",
    "    \n",
    "    Summarises the # of trips per day in each table and \n",
    "    returns them as a concatenated pandas dataframe\n",
    "    \n",
    "    Parameters\n",
    "    ------\n",
    "    \n",
    "    tables: list[str]\n",
    "        list of table names\n",
    "        \n",
    "    Example\n",
    "    ------\n",
    "    >>> tables = [\n",
    "        'tlc_green_trips_2014','tlc_green_trips_2015',\n",
    "        'tlc_green_trips_2016','tlc_green_trips_2017',\n",
    "        'tlc_yellow_trips_2015','tlc_yellow_trips_2016',\n",
    "        'tlc_yellow_trips_2017'\n",
    "        ]\n",
    "    >>> df = get_trips_per_day(tables)\n",
    "    \"\"\"\n",
    "    query = \"\"\"\n",
    "        WITH num_pickups as (\n",
    "            SELECT \n",
    "            CAST(pickup_datetime AS date) as date,\n",
    "            COUNT(*)  AS total_trips,\n",
    "            {YEAR} AS year,\n",
    "            '{COLOR}' AS color\n",
    "        FROM\n",
    "            `bigquery-public-data.new_york_taxi_trips.{TABLE}`\n",
    "        GROUP BY CAST(pickup_datetime AS date)\n",
    "        )\n",
    "        SELECT * FROM num_pickups ORDER BY date\n",
    "            \"\"\"\n",
    "    \n",
    "    dfs = []\n",
    "    for table in tables:\n",
    "        (_, color, _, year) = re.split(\"_\", table)\n",
    "        dfs.append(client.query(\n",
    "            query.format(\n",
    "                TABLE=table, \n",
    "                YEAR=year,\n",
    "                COLOR=color\n",
    "            )\n",
    "        ).to_dataframe())\n",
    "    return pd.concat(dfs)"
   ]
  },
  {
   "cell_type": "code",
   "execution_count": 4,
   "metadata": {
    "ExecuteTime": {
     "end_time": "2019-04-22T15:49:06.347635Z",
     "start_time": "2019-04-22T15:48:15.618366Z"
    }
   },
   "outputs": [
    {
     "name": "stdout",
     "output_type": "stream",
     "text": [
      "<class 'pandas.core.frame.DataFrame'>\n",
      "Int64Index: 2609 entries, 0 to 384\n",
      "Data columns (total 4 columns):\n",
      "date           2609 non-null object\n",
      "total_trips    2609 non-null int64\n",
      "year           2609 non-null int64\n",
      "color          2609 non-null object\n",
      "dtypes: int64(2), object(2)\n",
      "memory usage: 101.9+ KB\n"
     ]
    },
    {
     "data": {
      "text/html": [
       "<div>\n",
       "<style>\n",
       "    .dataframe thead tr:only-child th {\n",
       "        text-align: right;\n",
       "    }\n",
       "\n",
       "    .dataframe thead th {\n",
       "        text-align: left;\n",
       "    }\n",
       "\n",
       "    .dataframe tbody tr th {\n",
       "        vertical-align: top;\n",
       "    }\n",
       "</style>\n",
       "<table border=\"1\" class=\"dataframe\">\n",
       "  <thead>\n",
       "    <tr style=\"text-align: right;\">\n",
       "      <th></th>\n",
       "      <th>date</th>\n",
       "      <th>total_trips</th>\n",
       "      <th>year</th>\n",
       "      <th>color</th>\n",
       "    </tr>\n",
       "  </thead>\n",
       "  <tbody>\n",
       "    <tr>\n",
       "      <th>0</th>\n",
       "      <td>2014-01-01</td>\n",
       "      <td>25608</td>\n",
       "      <td>2014</td>\n",
       "      <td>green</td>\n",
       "    </tr>\n",
       "    <tr>\n",
       "      <th>1</th>\n",
       "      <td>2014-01-02</td>\n",
       "      <td>19061</td>\n",
       "      <td>2014</td>\n",
       "      <td>green</td>\n",
       "    </tr>\n",
       "    <tr>\n",
       "      <th>2</th>\n",
       "      <td>2014-01-03</td>\n",
       "      <td>13436</td>\n",
       "      <td>2014</td>\n",
       "      <td>green</td>\n",
       "    </tr>\n",
       "    <tr>\n",
       "      <th>3</th>\n",
       "      <td>2014-01-04</td>\n",
       "      <td>23697</td>\n",
       "      <td>2014</td>\n",
       "      <td>green</td>\n",
       "    </tr>\n",
       "    <tr>\n",
       "      <th>4</th>\n",
       "      <td>2014-01-05</td>\n",
       "      <td>20560</td>\n",
       "      <td>2014</td>\n",
       "      <td>green</td>\n",
       "    </tr>\n",
       "  </tbody>\n",
       "</table>\n",
       "</div>"
      ],
      "text/plain": [
       "         date  total_trips  year  color\n",
       "0  2014-01-01        25608  2014  green\n",
       "1  2014-01-02        19061  2014  green\n",
       "2  2014-01-03        13436  2014  green\n",
       "3  2014-01-04        23697  2014  green\n",
       "4  2014-01-05        20560  2014  green"
      ]
     },
     "execution_count": 4,
     "metadata": {},
     "output_type": "execute_result"
    }
   ],
   "source": [
    "df = get_trips_per_day(tables)\n",
    "df.info()\n",
    "df.head()"
   ]
  },
  {
   "cell_type": "markdown",
   "metadata": {
    "ExecuteTime": {
     "end_time": "2019-04-20T11:18:03.712335Z",
     "start_time": "2019-04-20T11:18:03.689070Z"
    }
   },
   "source": [
    "### Sanity Check\n",
    "\n",
    "\n",
    "The data is dirty, some rows have timestamps outside of the year which the tables represent\n",
    "\n",
    "2014-01-01 < Date 2018-1-1"
   ]
  },
  {
   "cell_type": "code",
   "execution_count": 5,
   "metadata": {
    "ExecuteTime": {
     "end_time": "2019-04-22T15:49:06.394207Z",
     "start_time": "2019-04-22T15:49:06.348908Z"
    },
    "tags": [
     "hide"
    ]
   },
   "outputs": [
    {
     "name": "stdout",
     "output_type": "stream",
     "text": [
      "\n",
      "Earliest Date: 2001-01-01\n",
      "Latest Date: 2053-03-21\n",
      "Number of rows not in date range: 52\n",
      "\n"
     ]
    }
   ],
   "source": [
    "firstdate = pd.to_datetime(\"2014-1-1\").date()\n",
    "lastdate = pd.to_datetime(\"2018-1-1\").date()\n",
    "outside_range = pd.concat([\n",
    "    df.query('date < @firstdate'),\n",
    "    df.query('date >= @lastdate')])\n",
    "print(\"\"\"\n",
    "Earliest Date: {}\n",
    "Latest Date: {}\n",
    "Number of rows not in date range: {}\n",
    "\"\"\".format(\n",
    "    df.date.min().strftime(\"%Y-%m-%d\"), \n",
    "    df.date.max().strftime(\"%Y-%m-%d\"),\n",
    "    outside_range.shape[0]\n",
    "))"
   ]
  },
  {
   "cell_type": "code",
   "execution_count": 24,
   "metadata": {
    "ExecuteTime": {
     "end_time": "2019-04-22T15:54:33.133986Z",
     "start_time": "2019-04-22T15:54:33.099127Z"
    },
    "tags": [
     "hideall"
    ]
   },
   "outputs": [
    {
     "data": {
      "text/html": [
       "<div>\n",
       "<style>\n",
       "    .dataframe thead tr:only-child th {\n",
       "        text-align: right;\n",
       "    }\n",
       "\n",
       "    .dataframe thead th {\n",
       "        text-align: left;\n",
       "    }\n",
       "\n",
       "    .dataframe tbody tr th {\n",
       "        vertical-align: top;\n",
       "    }\n",
       "</style>\n",
       "<table border=\"1\" class=\"dataframe\">\n",
       "  <thead>\n",
       "    <tr style=\"text-align: right;\">\n",
       "      <th></th>\n",
       "      <th>date</th>\n",
       "      <th>color</th>\n",
       "      <th>total_trips</th>\n",
       "    </tr>\n",
       "  </thead>\n",
       "  <tbody>\n",
       "    <tr>\n",
       "      <th>0</th>\n",
       "      <td>2014-01-01</td>\n",
       "      <td>green</td>\n",
       "      <td>25608</td>\n",
       "    </tr>\n",
       "    <tr>\n",
       "      <th>1</th>\n",
       "      <td>2014-01-02</td>\n",
       "      <td>green</td>\n",
       "      <td>19061</td>\n",
       "    </tr>\n",
       "    <tr>\n",
       "      <th>2</th>\n",
       "      <td>2014-01-03</td>\n",
       "      <td>green</td>\n",
       "      <td>13436</td>\n",
       "    </tr>\n",
       "    <tr>\n",
       "      <th>3</th>\n",
       "      <td>2014-01-04</td>\n",
       "      <td>green</td>\n",
       "      <td>23697</td>\n",
       "    </tr>\n",
       "    <tr>\n",
       "      <th>4</th>\n",
       "      <td>2014-01-05</td>\n",
       "      <td>green</td>\n",
       "      <td>20560</td>\n",
       "    </tr>\n",
       "  </tbody>\n",
       "</table>\n",
       "</div>"
      ],
      "text/plain": [
       "         date  color  total_trips\n",
       "0  2014-01-01  green        25608\n",
       "1  2014-01-02  green        19061\n",
       "2  2014-01-03  green        13436\n",
       "3  2014-01-04  green        23697\n",
       "4  2014-01-05  green        20560"
      ]
     },
     "execution_count": 24,
     "metadata": {},
     "output_type": "execute_result"
    }
   ],
   "source": [
    "def get_total_trips_per_day(df, start_date=\"2014-1-1\", end_date=\"2018-1-1\"):\n",
    "    firstdate = pd.to_datetime(start_date).date()\n",
    "    lastdate = pd.to_datetime(end_date).date()\n",
    "    cleaned_table = (df.query('@firstdate <= date < @lastdate')\n",
    "        .loc[:, ['date', 'total_trips', 'color']]\n",
    "        .groupby(['date', 'color'])\n",
    "        .sum()\n",
    "        .reset_index())\n",
    "    return cleaned_table\n",
    "counts_df = get_total_trips_per_day(df)\n",
    "\n",
    "counts_df.head()"
   ]
  },
  {
   "cell_type": "code",
   "execution_count": 23,
   "metadata": {
    "ExecuteTime": {
     "end_time": "2019-04-22T15:53:49.208676Z",
     "start_time": "2019-04-22T15:53:48.930753Z"
    },
    "tags": [
     "hide"
    ]
   },
   "outputs": [
    {
     "data": {
      "image/png": "[encoded data removed]"
     },
     "metadata": {},
     "output_type": "display_data"
    }
   ],
   "source": [
    "%%R -i counts_df -w 15 -h 5 -u in\n",
    "\n",
    "suppressPackageStartupMessages({\n",
    "    library(ggplot2)\n",
    "    library(lubridate)\n",
    "    library(cowplot)\n",
    "})\n",
    "\n",
    "ggplot(counts_df, aes(ymd(date), total_trips,  color=color)) +\n",
    "    geom_line(aes(group=color)) +\n",
    "    geom_point() +\n",
    "    scale_color_manual(\"Taxi\", values=c(\"#8db600\", \"#FFE83C\")) +\n",
    "    labs(title='Number of trips', x=\"Date\")"
   ]
  },
  {
   "cell_type": "markdown",
   "metadata": {},
   "source": [
    "> There seems to be much lesser data between in 2014 compared to the rest of the dates"
   ]
  },
  {
   "cell_type": "markdown",
   "metadata": {},
   "source": [
    "For the route, we will be using the following function to return the data."
   ]
  },
  {
   "cell_type": "code",
   "execution_count": 27,
   "metadata": {
    "ExecuteTime": {
     "end_time": "2019-04-22T15:55:36.437230Z",
     "start_time": "2019-04-22T15:55:36.414295Z"
    }
   },
   "outputs": [
    {
     "data": {
      "text/html": [
       "<div>\n",
       "<style>\n",
       "    .dataframe thead tr:only-child th {\n",
       "        text-align: right;\n",
       "    }\n",
       "\n",
       "    .dataframe thead th {\n",
       "        text-align: left;\n",
       "    }\n",
       "\n",
       "    .dataframe tbody tr th {\n",
       "        vertical-align: top;\n",
       "    }\n",
       "</style>\n",
       "<table border=\"1\" class=\"dataframe\">\n",
       "  <thead>\n",
       "    <tr style=\"text-align: right;\">\n",
       "      <th></th>\n",
       "      <th>date</th>\n",
       "      <th>total_trips</th>\n",
       "      <th>year</th>\n",
       "      <th>color</th>\n",
       "    </tr>\n",
       "  </thead>\n",
       "  <tbody>\n",
       "    <tr>\n",
       "      <th>0</th>\n",
       "      <td>2014-01-01</td>\n",
       "      <td>25608</td>\n",
       "      <td>2014</td>\n",
       "      <td>green</td>\n",
       "    </tr>\n",
       "    <tr>\n",
       "      <th>1</th>\n",
       "      <td>2014-01-02</td>\n",
       "      <td>19061</td>\n",
       "      <td>2014</td>\n",
       "      <td>green</td>\n",
       "    </tr>\n",
       "    <tr>\n",
       "      <th>2</th>\n",
       "      <td>2014-01-03</td>\n",
       "      <td>13436</td>\n",
       "      <td>2014</td>\n",
       "      <td>green</td>\n",
       "    </tr>\n",
       "    <tr>\n",
       "      <th>3</th>\n",
       "      <td>2014-01-04</td>\n",
       "      <td>23697</td>\n",
       "      <td>2014</td>\n",
       "      <td>green</td>\n",
       "    </tr>\n",
       "    <tr>\n",
       "      <th>4</th>\n",
       "      <td>2014-01-05</td>\n",
       "      <td>20560</td>\n",
       "      <td>2014</td>\n",
       "      <td>green</td>\n",
       "    </tr>\n",
       "  </tbody>\n",
       "</table>\n",
       "</div>"
      ],
      "text/plain": [
       "         date  total_trips  year  color\n",
       "0  2014-01-01        25608  2014  green\n",
       "1  2014-01-02        19061  2014  green\n",
       "2  2014-01-03        13436  2014  green\n",
       "3  2014-01-04        23697  2014  green\n",
       "4  2014-01-05        20560  2014  green"
      ]
     },
     "execution_count": 27,
     "metadata": {},
     "output_type": "execute_result"
    }
   ],
   "source": [
    "df.head()"
   ]
  },
  {
   "cell_type": "code",
   "execution_count": 31,
   "metadata": {
    "ExecuteTime": {
     "end_time": "2019-04-22T15:56:18.478488Z",
     "start_time": "2019-04-22T15:56:18.456229Z"
    }
   },
   "outputs": [],
   "source": [
    "df = df.loc[:, [\"date\", \"total_trips\"]].groupby([\"date\"]).sum().reset_index()"
   ]
  },
  {
   "cell_type": "code",
   "execution_count": 32,
   "metadata": {
    "ExecuteTime": {
     "end_time": "2019-04-22T15:56:20.356466Z",
     "start_time": "2019-04-22T15:56:20.333600Z"
    }
   },
   "outputs": [],
   "source": [
    "def get_trips(df, start='2016-01-01', end='2016-01-10', return_json=False):\n",
    "    firstdate = pd.to_datetime(start).date()\n",
    "    lastdate = pd.to_datetime(end).date()\n",
    "    trips = (df\n",
    "         .query('@firstdate <= date < @lastdate')\n",
    "         .loc[:,['date', 'total_trips']]\n",
    "         .assign(date = lambda df: df.date.apply(lambda day: day.strftime(\"%Y-%m-%d\")))\n",
    "    )\n",
    "    return trips.to_json(orient='records') if return_json else  trips.to_dict(orient='records')"
   ]
  },
  {
   "cell_type": "code",
   "execution_count": 33,
   "metadata": {
    "ExecuteTime": {
     "end_time": "2019-04-22T15:56:36.484676Z",
     "start_time": "2019-04-22T15:56:36.461017Z"
    }
   },
   "outputs": [
    {
     "data": {
      "text/plain": [
       "[{'date': '2016-01-01', 'total_trips': 409433},\n",
       " {'date': '2016-01-02', 'total_trips': 359789},\n",
       " {'date': '2016-01-03', 'total_trips': 347148},\n",
       " {'date': '2016-01-04', 'total_trips': 359911},\n",
       " {'date': '2016-01-05', 'total_trips': 385593},\n",
       " {'date': '2016-01-06', 'total_trips': 390541},\n",
       " {'date': '2016-01-07', 'total_trips': 407705},\n",
       " {'date': '2016-01-08', 'total_trips': 443057},\n",
       " {'date': '2016-01-09', 'total_trips': 462686}]"
      ]
     },
     "execution_count": 33,
     "metadata": {},
     "output_type": "execute_result"
    }
   ],
   "source": [
    "get_trips(df)"
   ]
  },
  {
   "cell_type": "markdown",
   "metadata": {
    "ExecuteTime": {
     "end_time": "2019-04-20T12:44:24.904966Z",
     "start_time": "2019-04-20T12:44:24.881716Z"
    }
   },
   "source": [
    "## Endpoint 2: Fare heatmap\n",
    "\n",
    "\n",
    "The average fare (fare_amount) per pick up location  [S2 ID](http://s2geometry.io/)  at level 16 for the given date.\n",
    "\n",
    "```bash\n",
    "DATE=2019-01-01\n",
    "\n",
    "curl http://${URL}:${PORT}/average_fare_heatmap?date=${DATE}\n",
    "```\n",
    "\n",
    "```json\n",
    "{\n",
    "   \"data\":[\n",
    "      {\n",
    "         \"s2id\":\"951977d37\",\n",
    "         \"fare\":13.21\n",
    "      },\n",
    "      {\n",
    "         \"s2id\":\"951977d39\",\n",
    "         \"fare\":4.32\n",
    "      },\n",
    "      {\n",
    "         \"s2id\":\"951977d40\",\n",
    "         \"fare\":5.43\n",
    "      },\n",
    "      {\n",
    "         \"s2id\":\"951978321\",\n",
    "         \"fare\":9.87\n",
    "      }\n",
    "   ]\n",
    "}\n",
    "```\n"
   ]
  },
  {
   "cell_type": "markdown",
   "metadata": {},
   "source": [
    "### S2 ID\n",
    "\n",
    "We will be using the `s2sphere` package to convert the latitutde and longitude values to unique S2 Cell Ids\n",
    "\n",
    "**Example**: \n",
    "\n",
    "Let's make use of Singapore's LatLng:\n",
    "\n"
   ]
  },
  {
   "cell_type": "code",
   "execution_count": 5,
   "metadata": {
    "ExecuteTime": {
     "end_time": "2019-04-25T03:27:22.522438Z",
     "start_time": "2019-04-25T03:27:22.500003Z"
    }
   },
   "outputs": [
    {
     "data": {
      "text/plain": [
       "'31da10ccf'"
      ]
     },
     "execution_count": 5,
     "metadata": {},
     "output_type": "execute_result"
    }
   ],
   "source": [
    "latlong = (1.3521, 103.8198)\n",
    "pos = s2sphere.LatLng.from_degrees(*latlong)\n",
    "s2cell = s2sphere.CellId.from_lat_lng(pos).parent(16)\n",
    "s2cell = re.sub(r\"0+$\", \"\", str(s2cell))\n",
    "s2cell = re.sub(r\"^CellId: \", \"\", s2cell)\n",
    "s2cell"
   ]
  },
  {
   "cell_type": "code",
   "execution_count": 35,
   "metadata": {
    "ExecuteTime": {
     "end_time": "2019-04-22T13:00:10.425531Z",
     "start_time": "2019-04-22T13:00:10.397313Z"
    }
   },
   "outputs": [
    {
     "data": {
      "text/plain": [
       "CellId: 31da10ccf0000000"
      ]
     },
     "execution_count": 35,
     "metadata": {},
     "output_type": "execute_result"
    }
   ],
   "source": [
    "s2sphere.sphere.CellId().from_token('31da10ccf')"
   ]
  },
  {
   "cell_type": "code",
   "execution_count": 6,
   "metadata": {
    "ExecuteTime": {
     "end_time": "2019-04-25T03:39:24.728199Z",
     "start_time": "2019-04-25T03:39:24.705282Z"
    }
   },
   "outputs": [
    {
     "name": "stdout",
     "output_type": "stream",
     "text": [
      "Cell_id: 951977d37 Latlong: -0.5243605967812942 -0.8925542511101803\n",
      "Cell_id: 951977d39 Latlong: -0.5243685601378298 -0.8925770554588418\n",
      "Cell_id: 951977d40 Latlong: -0.524391169863365 -0.8926112628472346\n",
      "Cell_id: 951978321 Latlong: -0.5241589286291036 -0.8934439625424014\n"
     ]
    }
   ],
   "source": [
    "for i in ['951977d37', '951977d39', '951977d40', '951978321']:\n",
    "    print(f\"Cell_id: {i} Latlong:\", end=' '); print(*s2sphere.sphere.CellId().from_token(i).to_lat_lng().__dict__['_LatLng__coords'])"
   ]
  },
  {
   "cell_type": "code",
   "execution_count": 189,
   "metadata": {
    "ExecuteTime": {
     "end_time": "2019-04-20T13:00:35.724264Z",
     "start_time": "2019-04-20T13:00:31.774014Z"
    },
    "tags": [
     "hideall"
    ]
   },
   "outputs": [],
   "source": [
    "%%bigquery example_df\n",
    "\n",
    "select * from `bigquery-public-data.new_york_taxi_trips.tlc_green_trips_2014` limit 5"
   ]
  },
  {
   "cell_type": "code",
   "execution_count": 192,
   "metadata": {
    "ExecuteTime": {
     "end_time": "2019-04-20T13:00:57.785901Z",
     "start_time": "2019-04-20T13:00:57.761100Z"
    },
    "tags": [
     "hideall"
    ]
   },
   "outputs": [
    {
     "data": {
      "text/plain": [
       "vendor_id                                     2\n",
       "pickup_datetime             2014-08-09 11:59:33\n",
       "dropoff_datetime            2014-08-09 13:07:51\n",
       "store_and_fwd_flag                            N\n",
       "rate_code                                     1\n",
       "pickup_longitude                        -73.979\n",
       "pickup_latitude                         40.6932\n",
       "dropoff_longitude                      -73.9976\n",
       "dropoff_latitude                        40.7661\n",
       "passenger_count                               5\n",
       "trip_distance                              7.15\n",
       "fare_amount                                  43\n",
       "extra                                         0\n",
       "mta_tax                                     0.5\n",
       "tip_amount                                    0\n",
       "tolls_amount                                  0\n",
       "ehail_fee                                  None\n",
       "total_amount                               43.5\n",
       "payment_type                                  2\n",
       "distance_between_service                   None\n",
       "time_between_service                       None\n",
       "trip_type                                     1\n",
       "imp_surcharge                              None\n",
       "Name: 1, dtype: object"
      ]
     },
     "execution_count": 192,
     "metadata": {},
     "output_type": "execute_result"
    }
   ],
   "source": [
    "example_df.iloc[1,:]"
   ]
  },
  {
   "cell_type": "code",
   "execution_count": 223,
   "metadata": {
    "ExecuteTime": {
     "end_time": "2019-04-20T13:40:33.134991Z",
     "start_time": "2019-04-20T13:40:33.102101Z"
    },
    "tags": [
     "hideall"
    ]
   },
   "outputs": [
    {
     "data": {
      "text/html": [
       "<div>\n",
       "<style>\n",
       "    .dataframe thead tr:only-child th {\n",
       "        text-align: right;\n",
       "    }\n",
       "\n",
       "    .dataframe thead th {\n",
       "        text-align: left;\n",
       "    }\n",
       "\n",
       "    .dataframe tbody tr th {\n",
       "        vertical-align: top;\n",
       "    }\n",
       "</style>\n",
       "<table border=\"1\" class=\"dataframe\">\n",
       "  <thead>\n",
       "    <tr style=\"text-align: right;\">\n",
       "      <th></th>\n",
       "      <th>pickup_datetime</th>\n",
       "      <th>pickup_longitude</th>\n",
       "      <th>pickup_latitude</th>\n",
       "      <th>fare_amount</th>\n",
       "      <th>mta_tax</th>\n",
       "      <th>tip_amount</th>\n",
       "      <th>Tolls_amount</th>\n",
       "      <th>ehail_fee</th>\n",
       "      <th>extra</th>\n",
       "      <th>total_amount</th>\n",
       "      <th>myown</th>\n",
       "    </tr>\n",
       "  </thead>\n",
       "  <tbody>\n",
       "    <tr>\n",
       "      <th>0</th>\n",
       "      <td>2014-03-20 11:12:38</td>\n",
       "      <td>-73.972992</td>\n",
       "      <td>40.693218</td>\n",
       "      <td>28.5</td>\n",
       "      <td>0.5</td>\n",
       "      <td>5.70</td>\n",
       "      <td>NaN</td>\n",
       "      <td>None</td>\n",
       "      <td>0.0</td>\n",
       "      <td>34.70</td>\n",
       "      <td>34.70</td>\n",
       "    </tr>\n",
       "    <tr>\n",
       "      <th>1</th>\n",
       "      <td>2014-08-09 11:59:33</td>\n",
       "      <td>-73.979050</td>\n",
       "      <td>40.693157</td>\n",
       "      <td>43.0</td>\n",
       "      <td>0.5</td>\n",
       "      <td>0.00</td>\n",
       "      <td>NaN</td>\n",
       "      <td>None</td>\n",
       "      <td>0.0</td>\n",
       "      <td>43.50</td>\n",
       "      <td>43.50</td>\n",
       "    </tr>\n",
       "    <tr>\n",
       "      <th>2</th>\n",
       "      <td>2014-10-03 14:11:50</td>\n",
       "      <td>-73.946159</td>\n",
       "      <td>40.806957</td>\n",
       "      <td>52.0</td>\n",
       "      <td>0.5</td>\n",
       "      <td>11.55</td>\n",
       "      <td>NaN</td>\n",
       "      <td>None</td>\n",
       "      <td>0.0</td>\n",
       "      <td>69.38</td>\n",
       "      <td>64.05</td>\n",
       "    </tr>\n",
       "    <tr>\n",
       "      <th>3</th>\n",
       "      <td>2014-03-06 04:25:39</td>\n",
       "      <td>-73.880783</td>\n",
       "      <td>40.748104</td>\n",
       "      <td>33.5</td>\n",
       "      <td>0.5</td>\n",
       "      <td>6.90</td>\n",
       "      <td>NaN</td>\n",
       "      <td>None</td>\n",
       "      <td>0.5</td>\n",
       "      <td>41.40</td>\n",
       "      <td>41.40</td>\n",
       "    </tr>\n",
       "    <tr>\n",
       "      <th>4</th>\n",
       "      <td>2014-02-08 23:46:32</td>\n",
       "      <td>-73.930840</td>\n",
       "      <td>40.771255</td>\n",
       "      <td>25.5</td>\n",
       "      <td>0.5</td>\n",
       "      <td>2.00</td>\n",
       "      <td>NaN</td>\n",
       "      <td>None</td>\n",
       "      <td>0.5</td>\n",
       "      <td>28.50</td>\n",
       "      <td>28.50</td>\n",
       "    </tr>\n",
       "  </tbody>\n",
       "</table>\n",
       "</div>"
      ],
      "text/plain": [
       "      pickup_datetime  pickup_longitude  pickup_latitude  fare_amount  \\\n",
       "0 2014-03-20 11:12:38        -73.972992        40.693218         28.5   \n",
       "1 2014-08-09 11:59:33        -73.979050        40.693157         43.0   \n",
       "2 2014-10-03 14:11:50        -73.946159        40.806957         52.0   \n",
       "3 2014-03-06 04:25:39        -73.880783        40.748104         33.5   \n",
       "4 2014-02-08 23:46:32        -73.930840        40.771255         25.5   \n",
       "\n",
       "   mta_tax  tip_amount  Tolls_amount ehail_fee  extra  total_amount  myown  \n",
       "0      0.5        5.70           NaN      None    0.0         34.70  34.70  \n",
       "1      0.5        0.00           NaN      None    0.0         43.50  43.50  \n",
       "2      0.5       11.55           NaN      None    0.0         69.38  64.05  \n",
       "3      0.5        6.90           NaN      None    0.5         41.40  41.40  \n",
       "4      0.5        2.00           NaN      None    0.5         28.50  28.50  "
      ]
     },
     "execution_count": 223,
     "metadata": {},
     "output_type": "execute_result"
    }
   ],
   "source": [
    "(example_df.loc[:, \n",
    "    [\n",
    "        \"pickup_datetime\", \n",
    "        \"pickup_latitude\", \n",
    "        \"pickup_longitude\", \n",
    "\n",
    "        \"fare_amount\", \n",
    "        \"mta_tax\", \n",
    "        \"tip_amount\",\n",
    "        \"Tolls_amount\",\n",
    "        \"ehail_fee\", \n",
    "        \"extra\",\n",
    "        \"total_amount\"]\n",
    "    ]\n",
    "    .assign(myown = lambda df: df.fare_amount + df.mta_tax + df.tip_amount + df.extra)\n",
    ")"
   ]
  },
  {
   "cell_type": "markdown",
   "metadata": {},
   "source": [
    "### Fare fee: \n",
    "\n",
    "To calculate the average fare in the cell, we wil be using `total_amount`.\n",
    "\n",
    "\\begin{align}\n",
    "total \\approx fare + mta + tip + extra $\n",
    "\\end{align}\n",
    "\n",
    "See more about [Column Descriptions](https://data.cityofnewyork.us/Transportation/2015-Green-Taxi-Trip-Data/gi8d-wdg5)"
   ]
  },
  {
   "cell_type": "code",
   "execution_count": 228,
   "metadata": {
    "ExecuteTime": {
     "end_time": "2019-04-20T13:43:46.633929Z",
     "start_time": "2019-04-20T13:43:46.610976Z"
    },
    "tags": [
     "hideall"
    ]
   },
   "outputs": [],
   "source": [
    "data = (example_df.loc[:, \n",
    "    [\"pickup_datetime\", \n",
    "     \"pickup_longitude\", \"pickup_latitude\",\n",
    "     \"total_amount\"]])"
   ]
  },
  {
   "cell_type": "code",
   "execution_count": 234,
   "metadata": {
    "ExecuteTime": {
     "end_time": "2019-04-20T13:46:21.319894Z",
     "start_time": "2019-04-20T13:46:21.282178Z"
    },
    "tags": [
     "hideall"
    ]
   },
   "outputs": [
    {
     "data": {
      "application/vnd.jupyter.widget-view+json": {
       "model_id": "ac4632589ea54616b6ddeb78e552f2b7",
       "version_major": 2,
       "version_minor": 0
      },
      "text/plain": [
       "HBox(children=(IntProgress(value=0, max=5), HTML(value='')))"
      ]
     },
     "metadata": {},
     "output_type": "display_data"
    },
    {
     "name": "stdout",
     "output_type": "stream",
     "text": [
      "\n"
     ]
    },
    {
     "data": {
      "text/plain": [
       "[CellId: b0fdf7c530000000,\n",
       " CellId: b0fdf7c3f0000000,\n",
       " CellId: b102084590000000,\n",
       " CellId: b1020bded0000000,\n",
       " CellId: b10209b210000000]"
      ]
     },
     "execution_count": 234,
     "metadata": {},
     "output_type": "execute_result"
    }
   ],
   "source": [
    "s2ids = []\n",
    "\n",
    "for latlong in list(zip(data.pickup_longitude, data.pickup_latitude)):\n",
    "    pos = s2sphere.LatLng.from_degrees(*latlong)\n",
    "    s2cell = s2sphere.CellId.from_lat_lng(pos).parent(16)\n",
    "    s2ids.append(s2cell)\n",
    "s2ids"
   ]
  },
  {
   "cell_type": "markdown",
   "metadata": {},
   "source": [
    "Because the conversion from latlong uses python package (locally), we will download the necessary columns: \n",
    "\n",
    "* `date`\n",
    "* `pickup_latitude`\n",
    "* `pickup_longitude`\n",
    "* `total_amount` \n",
    "\n",
    "And process them locally. \n",
    "\n",
    "Execution Plan: \n",
    "\n",
    "```\n",
    "(A: Export query temp table) -> (B: save to GCS) -> (C: Download and read into pandas)\n",
    "```\n"
   ]
  },
  {
   "cell_type": "markdown",
   "metadata": {},
   "source": [
    "#### A: Save query as a `project.dataset.table`"
   ]
  },
  {
   "cell_type": "code",
   "execution_count": 323,
   "metadata": {
    "ExecuteTime": {
     "end_time": "2019-04-21T04:02:40.715054Z",
     "start_time": "2019-04-21T04:02:40.693840Z"
    }
   },
   "outputs": [],
   "source": [
    "dataset_name = \"gpsprice\"\n",
    "table_name = \"green2014\"\n",
    "bucket_name = \"bigquery_output_gojek\"\n",
    "destination_uri = \"gs://{}/{}\".format(bucket_name, f\"{table_name}.csv.gz\")\n",
    "\n",
    "dataset_id = \"{}.{}\".format(client.project, dataset_name)\n",
    "\n",
    "table_id = f\"{dataset.project}.{dataset.dataset_id}.{table_name}\""
   ]
  },
  {
   "cell_type": "markdown",
   "metadata": {},
   "source": [
    "##### A.1 Create Dataset"
   ]
  },
  {
   "cell_type": "code",
   "execution_count": 352,
   "metadata": {
    "ExecuteTime": {
     "end_time": "2019-04-21T08:05:01.560435Z",
     "start_time": "2019-04-21T08:05:00.569474Z"
    }
   },
   "outputs": [],
   "source": [
    "dataset = bigquery.Dataset(dataset_id)\n",
    "dataset.location = \"US\"\n",
    "dataset = client.create_dataset(dataset, exists_ok=True)    "
   ]
  },
  {
   "cell_type": "markdown",
   "metadata": {
    "ExecuteTime": {
     "end_time": "2019-04-21T03:47:02.905504Z",
     "start_time": "2019-04-21T03:47:02.884739Z"
    }
   },
   "source": [
    "##### A.2 Create Table"
   ]
  },
  {
   "cell_type": "code",
   "execution_count": 366,
   "metadata": {
    "ExecuteTime": {
     "end_time": "2019-04-21T08:10:31.337048Z",
     "start_time": "2019-04-21T08:10:31.027914Z"
    }
   },
   "outputs": [],
   "source": [
    "# delete table if exists\n",
    "client.delete_table(table_id, not_found_ok=True)\n",
    "table_ref = client.dataset(dataset.dataset_id).table(table_name)"
   ]
  },
  {
   "cell_type": "markdown",
   "metadata": {
    "ExecuteTime": {
     "end_time": "2019-04-21T03:47:47.889821Z",
     "start_time": "2019-04-21T03:47:47.869103Z"
    }
   },
   "source": [
    "##### A.3 Run query"
   ]
  },
  {
   "cell_type": "code",
   "execution_count": 368,
   "metadata": {
    "ExecuteTime": {
     "end_time": "2019-04-21T08:10:35.897882Z",
     "start_time": "2019-04-21T08:10:35.875842Z"
    }
   },
   "outputs": [
    {
     "data": {
      "text/plain": [
       "'/projects/datascience-237903/datasets/gpsprice/tables/green2014'"
      ]
     },
     "execution_count": 368,
     "metadata": {},
     "output_type": "execute_result"
    }
   ],
   "source": [
    "table_ref.path"
   ]
  },
  {
   "cell_type": "code",
   "execution_count": 375,
   "metadata": {
    "ExecuteTime": {
     "end_time": "2019-04-21T08:13:15.348379Z",
     "start_time": "2019-04-21T08:13:14.456771Z"
    }
   },
   "outputs": [],
   "source": [
    "job_config = bigquery.QueryJobConfig()\n",
    "job_config.destination = table_ref\n",
    "\n",
    "query=  '''\n",
    "        SELECT \n",
    "            cast(pickup_datetime AS date) AS date, \n",
    "            pickup_latitude,\n",
    "            pickup_longitude, \n",
    "            total_amount \n",
    "        FROM \n",
    "            `bigquery-public-data.new_york_taxi_trips.tlc_green_trips_2014`\n",
    "        '''\n",
    "\n",
    "job = client.query(query, location='US', job_config=job_config)\n",
    "while (job.state != 'DONE'): time.sleep(5)\n",
    "try:\n",
    "    job.errorResult\n",
    "    print(\"Not_Sucessful\")\n",
    "except:\n",
    "    print(\"Sucessful\")"
   ]
  },
  {
   "cell_type": "markdown",
   "metadata": {},
   "source": [
    "##### B Save to GCS"
   ]
  },
  {
   "cell_type": "code",
   "execution_count": null,
   "metadata": {
    "ExecuteTime": {
     "start_time": "2019-04-21T08:19:58.605Z"
    }
   },
   "outputs": [],
   "source": [
    "job_config = bigquery.job.ExtractJobConfig()\n",
    "job_config.compression = 'GZIP'\n",
    "\n",
    "dataset_ref = client.dataset(dataset_id = dataset.dataset_id, \n",
    "                             project=dataset.project)\n",
    "table_ref = dataset_ref.table(table_name)\n",
    "\n",
    "job = client.extract_table(\n",
    "    table_ref,\n",
    "    destination_uri,\n",
    "    # Location must match that of the source table.\n",
    "    location=\"US\",\n",
    "    job_config = job_config\n",
    ")\n",
    "while (job.state != 'DONE'): time.sleep(5)\n",
    "try:\n",
    "    job.errorResult\n",
    "    print(\"Not_Sucessful\")\n",
    "except:\n",
    "    print(f\"Sucessfully Exported {table_id} to {destination_uri}\")"
   ]
  },
  {
   "cell_type": "markdown",
   "metadata": {},
   "source": [
    "#### C Read table"
   ]
  },
  {
   "cell_type": "code",
   "execution_count": 401,
   "metadata": {
    "ExecuteTime": {
     "end_time": "2019-04-21T08:39:21.839015Z",
     "start_time": "2019-04-21T08:39:09.764520Z"
    }
   },
   "outputs": [],
   "source": [
    "bucket = storage_client.get_bucket(bucket_name)\n",
    "blob = bucket.blob(f\"{table_name}.csv.gz\")\n",
    "\n",
    "blob.download_to_filename(\"/work/green2014.csv.gz\")"
   ]
  },
  {
   "cell_type": "code",
   "execution_count": 403,
   "metadata": {
    "ExecuteTime": {
     "end_time": "2019-04-21T08:39:50.731670Z",
     "start_time": "2019-04-21T08:39:41.870347Z"
    }
   },
   "outputs": [
    {
     "data": {
      "text/html": [
       "<div>\n",
       "<style>\n",
       "    .dataframe thead tr:only-child th {\n",
       "        text-align: right;\n",
       "    }\n",
       "\n",
       "    .dataframe thead th {\n",
       "        text-align: left;\n",
       "    }\n",
       "\n",
       "    .dataframe tbody tr th {\n",
       "        vertical-align: top;\n",
       "    }\n",
       "</style>\n",
       "<table border=\"1\" class=\"dataframe\">\n",
       "  <thead>\n",
       "    <tr style=\"text-align: right;\">\n",
       "      <th></th>\n",
       "      <th>date</th>\n",
       "      <th>pickup_longitude</th>\n",
       "      <th>pickup_latitude</th>\n",
       "      <th>total_amount</th>\n",
       "    </tr>\n",
       "  </thead>\n",
       "  <tbody>\n",
       "    <tr>\n",
       "      <th>0</th>\n",
       "      <td>2014-09-10</td>\n",
       "      <td>-73.959023</td>\n",
       "      <td>40.809570</td>\n",
       "      <td>29.50</td>\n",
       "    </tr>\n",
       "    <tr>\n",
       "      <th>1</th>\n",
       "      <td>2014-05-30</td>\n",
       "      <td>-73.923050</td>\n",
       "      <td>40.760857</td>\n",
       "      <td>43.70</td>\n",
       "    </tr>\n",
       "    <tr>\n",
       "      <th>2</th>\n",
       "      <td>2014-08-20</td>\n",
       "      <td>-73.863853</td>\n",
       "      <td>40.732861</td>\n",
       "      <td>35.83</td>\n",
       "    </tr>\n",
       "    <tr>\n",
       "      <th>3</th>\n",
       "      <td>2014-12-04</td>\n",
       "      <td>-73.932182</td>\n",
       "      <td>40.685356</td>\n",
       "      <td>-5.00</td>\n",
       "    </tr>\n",
       "    <tr>\n",
       "      <th>4</th>\n",
       "      <td>2014-02-02</td>\n",
       "      <td>-73.950035</td>\n",
       "      <td>40.682377</td>\n",
       "      <td>29.50</td>\n",
       "    </tr>\n",
       "  </tbody>\n",
       "</table>\n",
       "</div>"
      ],
      "text/plain": [
       "         date  pickup_longitude  pickup_latitude  total_amount\n",
       "0  2014-09-10        -73.959023        40.809570         29.50\n",
       "1  2014-05-30        -73.923050        40.760857         43.70\n",
       "2  2014-08-20        -73.863853        40.732861         35.83\n",
       "3  2014-12-04        -73.932182        40.685356         -5.00\n",
       "4  2014-02-02        -73.950035        40.682377         29.50"
      ]
     },
     "execution_count": 403,
     "metadata": {},
     "output_type": "execute_result"
    },
    {
     "name": "stdout",
     "output_type": "stream",
     "text": [
      "<class 'pandas.core.frame.DataFrame'>\n",
      "RangeIndex: 15837001 entries, 0 to 15837000\n",
      "Data columns (total 4 columns):\n",
      "date                object\n",
      "pickup_longitude    float64\n",
      "pickup_latitude     float64\n",
      "total_amount        float64\n",
      "dtypes: float64(3), object(1)\n",
      "memory usage: 483.3+ MB\n"
     ]
    }
   ],
   "source": [
    "finally_df = pd.read_csv(\"/work/green2014.csv.gz\", compression=\"gzip\")\n",
    "\n",
    "finally_df.head()\n",
    "finally_df.info()"
   ]
  },
  {
   "cell_type": "code",
   "execution_count": null,
   "metadata": {
    "ExecuteTime": {
     "end_time": "2019-04-21T09:07:12.407007Z",
     "start_time": "2019-04-21T09:03:22.334095Z"
    }
   },
   "outputs": [],
   "source": [
    "s2ids = []\n",
    "for latlong in tqdm_notebook(list(zip(finally_df.pickup_latitude, finally_df.pickup_longitude))):\n",
    "    pos = s2sphere.LatLng.from_degrees(*latlong)\n",
    "    s2cell = s2sphere.CellId.from_lat_lng(pos).parent(16)\n",
    "    s2ids.append(s2cell)"
   ]
  },
  {
   "cell_type": "code",
   "execution_count": 428,
   "metadata": {
    "ExecuteTime": {
     "end_time": "2019-04-21T08:53:35.399796Z",
     "start_time": "2019-04-21T08:53:35.376495Z"
    }
   },
   "outputs": [
    {
     "data": {
      "text/plain": [
       "(40.8095703125, -73.95902252197266)"
      ]
     },
     "execution_count": 428,
     "metadata": {},
     "output_type": "execute_result"
    }
   ],
   "source": [
    "list(zip(finally_df.pickup_latitude.head(), finally_df.pickup_longitude.head()))[0]"
   ]
  },
  {
   "cell_type": "code",
   "execution_count": 456,
   "metadata": {
    "ExecuteTime": {
     "end_time": "2019-04-21T09:03:19.296692Z",
     "start_time": "2019-04-21T09:03:19.273923Z"
    }
   },
   "outputs": [
    {
     "data": {
      "text/plain": [
       "LatLng: 40.809050842970294,-73.95875925478386"
      ]
     },
     "execution_count": 456,
     "metadata": {},
     "output_type": "execute_result"
    }
   ],
   "source": [
    "s2sphere.sphere.CellId().from_token('89c2f61570000000').to_lat_lng()"
   ]
  },
  {
   "cell_type": "code",
   "execution_count": 481,
   "metadata": {
    "ExecuteTime": {
     "end_time": "2019-04-21T09:14:22.204077Z",
     "start_time": "2019-04-21T09:14:00.690411Z"
    }
   },
   "outputs": [],
   "source": [
    "trimmed_ids = pd.Series([re.match(r\"CellId: (\\S+)\", str(s2id)).groups(0)[0] for s2id in s2ids],  dtype=\"category\")"
   ]
  },
  {
   "cell_type": "code",
   "execution_count": 482,
   "metadata": {
    "ExecuteTime": {
     "end_time": "2019-04-21T09:14:22.914174Z",
     "start_time": "2019-04-21T09:14:22.205499Z"
    }
   },
   "outputs": [
    {
     "data": {
      "text/plain": [
       "0    89c2f61570000000\n",
       "1    89c25f3a10000000\n",
       "2    89c25e3670000000\n",
       "3    89c25c7450000000\n",
       "4    89c25b9070000000\n",
       "dtype: category\n",
       "Categories (31845, object): [1000000010000000, 12a09d5870000000, 12a09d7fd0000000, 2769b37d30000000, ..., 89e9d57590000000, 89e9d58290000000, 89ef54def0000000, 89f8d8baf0000000]"
      ]
     },
     "execution_count": 482,
     "metadata": {},
     "output_type": "execute_result"
    },
    {
     "data": {
      "text/plain": [
       "count             15837001\n",
       "unique               31845\n",
       "top       89c25e2730000000\n",
       "freq                237330\n",
       "dtype: object"
      ]
     },
     "execution_count": 482,
     "metadata": {},
     "output_type": "execute_result"
    }
   ],
   "source": [
    "trimmed_ids[:5]\n",
    "trimmed_ids.describe()"
   ]
  },
  {
   "cell_type": "code",
   "execution_count": 483,
   "metadata": {
    "ExecuteTime": {
     "end_time": "2019-04-21T09:14:22.928983Z",
     "start_time": "2019-04-21T09:14:22.915409Z"
    }
   },
   "outputs": [],
   "source": [
    "finally_df[\"s2id\"] = trimmed_ids"
   ]
  },
  {
   "cell_type": "code",
   "execution_count": 486,
   "metadata": {
    "ExecuteTime": {
     "end_time": "2019-04-21T09:15:20.724351Z",
     "start_time": "2019-04-21T09:15:20.697014Z"
    }
   },
   "outputs": [
    {
     "data": {
      "text/html": [
       "<div>\n",
       "<style>\n",
       "    .dataframe thead tr:only-child th {\n",
       "        text-align: right;\n",
       "    }\n",
       "\n",
       "    .dataframe thead th {\n",
       "        text-align: left;\n",
       "    }\n",
       "\n",
       "    .dataframe tbody tr th {\n",
       "        vertical-align: top;\n",
       "    }\n",
       "</style>\n",
       "<table border=\"1\" class=\"dataframe\">\n",
       "  <thead>\n",
       "    <tr style=\"text-align: right;\">\n",
       "      <th></th>\n",
       "      <th>date</th>\n",
       "      <th>pickup_longitude</th>\n",
       "      <th>pickup_latitude</th>\n",
       "      <th>total_amount</th>\n",
       "      <th>s2id</th>\n",
       "    </tr>\n",
       "  </thead>\n",
       "  <tbody>\n",
       "    <tr>\n",
       "      <th>0</th>\n",
       "      <td>2014-09-10</td>\n",
       "      <td>-73.959023</td>\n",
       "      <td>40.80957</td>\n",
       "      <td>29.5</td>\n",
       "      <td>89c2f61570000000</td>\n",
       "    </tr>\n",
       "  </tbody>\n",
       "</table>\n",
       "</div>"
      ],
      "text/plain": [
       "         date  pickup_longitude  pickup_latitude  total_amount  \\\n",
       "0  2014-09-10        -73.959023         40.80957          29.5   \n",
       "\n",
       "               s2id  \n",
       "0  89c2f61570000000  "
      ]
     },
     "execution_count": 486,
     "metadata": {},
     "output_type": "execute_result"
    }
   ],
   "source": [
    "finally_df.head(1)"
   ]
  },
  {
   "cell_type": "code",
   "execution_count": 485,
   "metadata": {
    "ExecuteTime": {
     "end_time": "2019-04-21T09:14:51.260698Z",
     "start_time": "2019-04-21T09:14:51.237668Z"
    }
   },
   "outputs": [
    {
     "data": {
      "text/plain": [
       "LatLng: 40.809050842970294,-73.95875925478386"
      ]
     },
     "execution_count": 485,
     "metadata": {},
     "output_type": "execute_result"
    }
   ],
   "source": [
    "s2sphere.sphere.CellId().from_token('89c2f61570000000').to_lat_lng()"
   ]
  },
  {
   "cell_type": "code",
   "execution_count": 503,
   "metadata": {
    "ExecuteTime": {
     "end_time": "2019-04-21T09:26:10.755529Z",
     "start_time": "2019-04-21T09:26:07.079433Z"
    }
   },
   "outputs": [],
   "source": [
    "heatmap_input = (finally_df\n",
    "     .drop([\"pickup_longitude\", \"pickup_latitude\"], axis=1)\n",
    "     .groupby([\"date\", \"s2id\"])\n",
    "     .sum()\n",
    "     .fillna(0)\n",
    "     .reset_index()\n",
    ")"
   ]
  },
  {
   "cell_type": "code",
   "execution_count": 504,
   "metadata": {
    "ExecuteTime": {
     "end_time": "2019-04-21T09:26:10.859763Z",
     "start_time": "2019-04-21T09:26:10.757016Z"
    }
   },
   "outputs": [
    {
     "data": {
      "text/html": [
       "<div>\n",
       "<style>\n",
       "    .dataframe thead tr:only-child th {\n",
       "        text-align: right;\n",
       "    }\n",
       "\n",
       "    .dataframe thead th {\n",
       "        text-align: left;\n",
       "    }\n",
       "\n",
       "    .dataframe tbody tr th {\n",
       "        vertical-align: top;\n",
       "    }\n",
       "</style>\n",
       "<table border=\"1\" class=\"dataframe\">\n",
       "  <thead>\n",
       "    <tr style=\"text-align: right;\">\n",
       "      <th></th>\n",
       "      <th>date</th>\n",
       "      <th>s2id</th>\n",
       "      <th>total_amount</th>\n",
       "    </tr>\n",
       "  </thead>\n",
       "  <tbody>\n",
       "    <tr>\n",
       "      <th>0</th>\n",
       "      <td>2014-01-01</td>\n",
       "      <td>1000000010000000</td>\n",
       "      <td>834.49</td>\n",
       "    </tr>\n",
       "    <tr>\n",
       "      <th>219</th>\n",
       "      <td>2014-01-01</td>\n",
       "      <td>89c24343b0000000</td>\n",
       "      <td>17.50</td>\n",
       "    </tr>\n",
       "    <tr>\n",
       "      <th>307</th>\n",
       "      <td>2014-01-01</td>\n",
       "      <td>89c2435070000000</td>\n",
       "      <td>10.00</td>\n",
       "    </tr>\n",
       "    <tr>\n",
       "      <th>352</th>\n",
       "      <td>2014-01-01</td>\n",
       "      <td>89c2435670000000</td>\n",
       "      <td>85.50</td>\n",
       "    </tr>\n",
       "    <tr>\n",
       "      <th>365</th>\n",
       "      <td>2014-01-01</td>\n",
       "      <td>89c2435810000000</td>\n",
       "      <td>4.00</td>\n",
       "    </tr>\n",
       "  </tbody>\n",
       "</table>\n",
       "</div>"
      ],
      "text/plain": [
       "           date              s2id  total_amount\n",
       "0    2014-01-01  1000000010000000        834.49\n",
       "219  2014-01-01  89c24343b0000000         17.50\n",
       "307  2014-01-01  89c2435070000000         10.00\n",
       "352  2014-01-01  89c2435670000000         85.50\n",
       "365  2014-01-01  89c2435810000000          4.00"
      ]
     },
     "execution_count": 504,
     "metadata": {},
     "output_type": "execute_result"
    }
   ],
   "source": [
    "heatmap_input.query(\"total_amount > 0\").head()"
   ]
  },
  {
   "cell_type": "code",
   "execution_count": 516,
   "metadata": {
    "ExecuteTime": {
     "end_time": "2019-04-21T09:29:34.098775Z",
     "start_time": "2019-04-21T09:29:33.943241Z"
    }
   },
   "outputs": [
    {
     "data": {
      "text/plain": [
       "[{'s2id': '1000000010000000', 'total_amount': 834.49},\n",
       " {'s2id': '89c24343b0000000', 'total_amount': 17.5},\n",
       " {'s2id': '89c2435070000000', 'total_amount': 10.0},\n",
       " {'s2id': '89c2435670000000', 'total_amount': 85.5},\n",
       " {'s2id': '89c2435810000000', 'total_amount': 4.0}]"
      ]
     },
     "execution_count": 516,
     "metadata": {},
     "output_type": "execute_result"
    }
   ],
   "source": [
    "(heatmap_input.query('date == \"2014-01-01\" & total_amount > 0').reset_index().\n",
    "loc[:,[\"s2id\", \"total_amount\"]].head().to_dict(orient=\"records\"))"
   ]
  },
  {
   "cell_type": "markdown",
   "metadata": {
    "ExecuteTime": {
     "end_time": "2019-04-21T04:01:19.323869Z",
     "start_time": "2019-04-21T04:01:19.302378Z"
    }
   },
   "source": [
    "### Automation\n",
    "\n",
    "Now that we have proven it works, lets automate this. But lets check the cleaniless of the data (confession this was done on hindsight)"
   ]
  },
  {
   "cell_type": "code",
   "execution_count": 58,
   "metadata": {
    "ExecuteTime": {
     "end_time": "2019-04-27T09:41:56.008685Z",
     "start_time": "2019-04-27T09:41:39.266618Z"
    }
   },
   "outputs": [],
   "source": [
    "query = \"\"\"\n",
    "SELECT\n",
    "  count(*) as count\n",
    "FROM\n",
    "  `bigquery-public-data.new_york_taxi_trips.tlc_{COLOR}_trips_{YEAR}`\n",
    "WHERE\n",
    "  pickup_latitude is not NULL \n",
    "  AND pickup_longitude is not NULL\n",
    "  AND fare_amount is not NULL\n",
    "    \"\"\"\n",
    "\n",
    "def get_count(row):\n",
    "#    print(row.name)\n",
    "    return (client\n",
    "            .query(query.format(\n",
    "                YEAR=row[\"year\"], \n",
    "                COLOR=row[\"color\"]))\n",
    "            .to_dataframe()\n",
    "            .assign(year=row[\"year\"], \n",
    "                    color=row[\"color\"])\n",
    "            .loc[0,:]\n",
    "           )\n",
    "\n",
    "counts = (pd.concat([\n",
    "    pd.DataFrame({\n",
    "        \"year\":[2014, 2015, 2016, 2017], \n",
    "        \"color\": \"green\"\n",
    "    }),\n",
    "    pd.DataFrame({\n",
    "        \"year\":[2015, 2016, 2017], \n",
    "        \"color\": \"yellow\"\n",
    "    })\n",
    "])\n",
    " .apply(get_count, axis=1)\n",
    ")"
   ]
  },
  {
   "cell_type": "code",
   "execution_count": 60,
   "metadata": {
    "ExecuteTime": {
     "end_time": "2019-04-27T09:41:57.950300Z",
     "start_time": "2019-04-27T09:41:57.926292Z"
    }
   },
   "outputs": [
    {
     "data": {
      "text/html": [
       "<div>\n",
       "<style scoped>\n",
       "    .dataframe tbody tr th:only-of-type {\n",
       "        vertical-align: middle;\n",
       "    }\n",
       "\n",
       "    .dataframe tbody tr th {\n",
       "        vertical-align: top;\n",
       "    }\n",
       "\n",
       "    .dataframe thead th {\n",
       "        text-align: right;\n",
       "    }\n",
       "</style>\n",
       "<table border=\"1\" class=\"dataframe\">\n",
       "  <thead>\n",
       "    <tr style=\"text-align: right;\">\n",
       "      <th></th>\n",
       "      <th>count</th>\n",
       "      <th>year</th>\n",
       "      <th>color</th>\n",
       "    </tr>\n",
       "  </thead>\n",
       "  <tbody>\n",
       "    <tr>\n",
       "      <th>0</th>\n",
       "      <td>15837001</td>\n",
       "      <td>2014</td>\n",
       "      <td>green</td>\n",
       "    </tr>\n",
       "    <tr>\n",
       "      <th>1</th>\n",
       "      <td>19233765</td>\n",
       "      <td>2015</td>\n",
       "      <td>green</td>\n",
       "    </tr>\n",
       "    <tr>\n",
       "      <th>2</th>\n",
       "      <td>0</td>\n",
       "      <td>2016</td>\n",
       "      <td>green</td>\n",
       "    </tr>\n",
       "    <tr>\n",
       "      <th>3</th>\n",
       "      <td>0</td>\n",
       "      <td>2017</td>\n",
       "      <td>green</td>\n",
       "    </tr>\n",
       "    <tr>\n",
       "      <th>0</th>\n",
       "      <td>146112989</td>\n",
       "      <td>2015</td>\n",
       "      <td>yellow</td>\n",
       "    </tr>\n",
       "    <tr>\n",
       "      <th>1</th>\n",
       "      <td>69406520</td>\n",
       "      <td>2016</td>\n",
       "      <td>yellow</td>\n",
       "    </tr>\n",
       "    <tr>\n",
       "      <th>2</th>\n",
       "      <td>0</td>\n",
       "      <td>2017</td>\n",
       "      <td>yellow</td>\n",
       "    </tr>\n",
       "  </tbody>\n",
       "</table>\n",
       "</div>"
      ],
      "text/plain": [
       "       count  year   color\n",
       "0   15837001  2014   green\n",
       "1   19233765  2015   green\n",
       "2          0  2016   green\n",
       "3          0  2017   green\n",
       "0  146112989  2015  yellow\n",
       "1   69406520  2016  yellow\n",
       "2          0  2017  yellow"
      ]
     },
     "execution_count": 60,
     "metadata": {},
     "output_type": "execute_result"
    }
   ],
   "source": [
    "counts"
   ]
  },
  {
   "cell_type": "markdown",
   "metadata": {},
   "source": [
    "Seems like there's no lat-long-faredata for 2016, 2017 green and 2017 yellow, hence we will ignore it. "
   ]
  },
  {
   "cell_type": "markdown",
   "metadata": {
    "ExecuteTime": {
     "end_time": "2019-04-23T02:57:08.279347Z",
     "start_time": "2019-04-23T02:57:08.268139Z"
    }
   },
   "source": [
    "## Green Taxis"
   ]
  },
  {
   "cell_type": "markdown",
   "metadata": {},
   "source": [
    "## API 3\n",
    "\n",
    "### Average speed in the past 24 hours\n",
    "\n",
    "Average speed (trip_distance / (dropoff_datetime - pickup_datetime)) of trips that ended in the past 24 hours from the provided date.\n",
    "\n",
    "```bash\n",
    "DATE=2019-01-01\n",
    "\n",
    "curl http://${URL}:${PORT}/average_speed_24hrs?date=${DATE}\n",
    "```\n",
    "\n",
    "```json\n",
    "{\n",
    "   \"data\":[\n",
    "      {\n",
    "         \"average_speed\":24.7\n",
    "      }\n",
    "   ]\n",
    "}\n",
    "```"
   ]
  },
  {
   "cell_type": "markdown",
   "metadata": {},
   "source": [
    "`trip_distance`: The elapsed trip distance in miles reported by the taximeter.\n",
    "\n",
    "Since the instructions did not specify the speed's units, we will use seconds."
   ]
  },
  {
   "cell_type": "code",
   "execution_count": 14,
   "metadata": {
    "ExecuteTime": {
     "end_time": "2019-04-27T12:17:32.611092Z",
     "start_time": "2019-04-27T12:17:26.292898Z"
    }
   },
   "outputs": [
    {
     "data": {
      "text/html": [
       "<div>\n",
       "<style scoped>\n",
       "    .dataframe tbody tr th:only-of-type {\n",
       "        vertical-align: middle;\n",
       "    }\n",
       "\n",
       "    .dataframe tbody tr th {\n",
       "        vertical-align: top;\n",
       "    }\n",
       "\n",
       "    .dataframe thead th {\n",
       "        text-align: right;\n",
       "    }\n",
       "</style>\n",
       "<table border=\"1\" class=\"dataframe\">\n",
       "  <thead>\n",
       "    <tr style=\"text-align: right;\">\n",
       "      <th></th>\n",
       "      <th>count</th>\n",
       "    </tr>\n",
       "  </thead>\n",
       "  <tbody>\n",
       "    <tr>\n",
       "      <th>0</th>\n",
       "      <td>15837001</td>\n",
       "    </tr>\n",
       "  </tbody>\n",
       "</table>\n",
       "</div>"
      ],
      "text/plain": [
       "      count\n",
       "0  15837001"
      ]
     },
     "execution_count": 14,
     "metadata": {},
     "output_type": "execute_result"
    }
   ],
   "source": [
    "%%bigquery\n",
    "\n",
    "WITH temp as (\n",
    "SELECT\n",
    "    DATE(dropoff_datetime) as date,\n",
    "    trip_distance as miles,\n",
    "    DATETIME_DIFF(dropoff_datetime, pickup_datetime, SECOND) as difference,\n",
    "    (trip_distance / DATETIME_DIFF(dropoff_datetime, pickup_datetime, SECOND)) as MPS\n",
    "FROM\n",
    "    `bigquery-public-data.new_york_taxi_trips.tlc_green_trips_2014`\n",
    "WHERE \n",
    "    dropoff_datetime is not NULL\n",
    "    AND pickup_datetime is not NULL\n",
    "    AND trip_distance is not NULL\n",
    ")\n",
    "select \n",
    "    AVG(MPS) as average_speed, \n",
    "    date\n",
    "FROM temp \n",
    "GROUP BY date"
   ]
  },
  {
   "cell_type": "code",
   "execution_count": 2,
   "metadata": {
    "ExecuteTime": {
     "end_time": "2019-04-27T12:02:00.118412Z",
     "start_time": "2019-04-27T12:02:00.086518Z"
    }
   },
   "outputs": [],
   "source": [
    "from gojek.util.db import get_dataframe_from_bigquery"
   ]
  },
  {
   "cell_type": "code",
   "execution_count": 8,
   "metadata": {
    "ExecuteTime": {
     "end_time": "2019-04-27T12:04:10.972963Z",
     "start_time": "2019-04-27T12:04:10.948398Z"
    }
   },
   "outputs": [],
   "source": [
    "def get_tables():\n",
    "    \"\"\"\n",
    "    >>> get_tables()\n",
    "    \"\"\"\n",
    "    # Green taxis\n",
    "    greens = \"tlc_green_trips_{YEAR}\"\n",
    "    green_years = [2014, 2015]\n",
    "    tables = [greens.format(YEAR=year) for year in green_years]\n",
    "    # Yellow taxis\n",
    "    yellows = \"tlc_yellow_trips_{YEAR}\"\n",
    "    yellow_years = [2015, 2016]\n",
    "    tables.extend([yellows.format(YEAR=year) for year in yellow_years])\n",
    "    table_str = \"bigquery-public-data.new_york_taxi_trips.{TABLE}\"\n",
    "    return pd.DataFrame({\n",
    "        \"tables\": [table_str.format(TABLE=table) for table in tables],\n",
    "        \"year\": green_years + yellow_years,\n",
    "        \"color\": [\"green\" for i in green_years] +\n",
    "                 [\"yellow\" for i in yellow_years]\n",
    "    })"
   ]
  },
  {
   "cell_type": "code",
   "execution_count": 11,
   "metadata": {
    "ExecuteTime": {
     "end_time": "2019-04-27T12:04:22.482890Z",
     "start_time": "2019-04-27T12:04:22.453292Z"
    }
   },
   "outputs": [
    {
     "data": {
      "text/html": [
       "<div>\n",
       "<style scoped>\n",
       "    .dataframe tbody tr th:only-of-type {\n",
       "        vertical-align: middle;\n",
       "    }\n",
       "\n",
       "    .dataframe tbody tr th {\n",
       "        vertical-align: top;\n",
       "    }\n",
       "\n",
       "    .dataframe thead th {\n",
       "        text-align: right;\n",
       "    }\n",
       "</style>\n",
       "<table border=\"1\" class=\"dataframe\">\n",
       "  <thead>\n",
       "    <tr style=\"text-align: right;\">\n",
       "      <th></th>\n",
       "      <th>tables</th>\n",
       "      <th>year</th>\n",
       "      <th>color</th>\n",
       "    </tr>\n",
       "  </thead>\n",
       "  <tbody>\n",
       "    <tr>\n",
       "      <th>0</th>\n",
       "      <td>bigquery-public-data.new_york_taxi_trips.tlc_g...</td>\n",
       "      <td>2014</td>\n",
       "      <td>green</td>\n",
       "    </tr>\n",
       "    <tr>\n",
       "      <th>1</th>\n",
       "      <td>bigquery-public-data.new_york_taxi_trips.tlc_g...</td>\n",
       "      <td>2015</td>\n",
       "      <td>green</td>\n",
       "    </tr>\n",
       "    <tr>\n",
       "      <th>2</th>\n",
       "      <td>bigquery-public-data.new_york_taxi_trips.tlc_y...</td>\n",
       "      <td>2015</td>\n",
       "      <td>yellow</td>\n",
       "    </tr>\n",
       "    <tr>\n",
       "      <th>3</th>\n",
       "      <td>bigquery-public-data.new_york_taxi_trips.tlc_y...</td>\n",
       "      <td>2016</td>\n",
       "      <td>yellow</td>\n",
       "    </tr>\n",
       "  </tbody>\n",
       "</table>\n",
       "</div>"
      ],
      "text/plain": [
       "                                              tables  year   color\n",
       "0  bigquery-public-data.new_york_taxi_trips.tlc_g...  2014   green\n",
       "1  bigquery-public-data.new_york_taxi_trips.tlc_g...  2015   green\n",
       "2  bigquery-public-data.new_york_taxi_trips.tlc_y...  2015  yellow\n",
       "3  bigquery-public-data.new_york_taxi_trips.tlc_y...  2016  yellow"
      ]
     },
     "execution_count": 11,
     "metadata": {},
     "output_type": "execute_result"
    }
   ],
   "source": [
    "valid_tables = get_tables()\n",
    "valid_tables"
   ]
  },
  {
   "cell_type": "code",
   "execution_count": 12,
   "metadata": {
    "ExecuteTime": {
     "end_time": "2019-04-27T12:12:47.168267Z",
     "start_time": "2019-04-27T12:12:47.144735Z"
    }
   },
   "outputs": [
    {
     "data": {
      "text/plain": [
       "['bigquery-public-data.new_york_taxi_trips.tlc_green_trips_2014',\n",
       " 'bigquery-public-data.new_york_taxi_trips.tlc_green_trips_2015',\n",
       " 'bigquery-public-data.new_york_taxi_trips.tlc_yellow_trips_2015',\n",
       " 'bigquery-public-data.new_york_taxi_trips.tlc_yellow_trips_2016']"
      ]
     },
     "execution_count": 12,
     "metadata": {},
     "output_type": "execute_result"
    }
   ],
   "source": [
    "valid_tables.tables.tolist()"
   ]
  },
  {
   "cell_type": "code",
   "execution_count": 15,
   "metadata": {
    "ExecuteTime": {
     "end_time": "2019-04-27T12:52:02.901893Z",
     "start_time": "2019-04-27T12:51:30.137805Z"
    }
   },
   "outputs": [
    {
     "name": "stderr",
     "output_type": "stream",
     "text": [
      "2019-04-27:20:51:31,785 INFO     [db.py:36 - execute_query] Executing query...\n",
      "2019-04-27:20:51:54,538 INFO     [db.py:44 - execute_query] Complete\n",
      "2019-04-27:20:51:55,201 INFO     [db.py:60 - save_table_to_gcs] Saving table to GCS...\n",
      "2019-04-27:20:52:00,523 INFO     [db.py:68 - save_table_to_gcs] Complete\n"
     ]
    },
    {
     "name": "stdout",
     "output_type": "stream",
     "text": [
      "c5990b02-5abc-419c-8c9b-4a379f35f890-\n"
     ]
    }
   ],
   "source": [
    "ave_speed_df = get_dataframe_from_bigquery(\"\"\"\n",
    "WITH temp as (\n",
    "SELECT\n",
    "    DATE(dropoff_datetime) as date,\n",
    "    trip_distance as miles,\n",
    "    (trip_distance / NULLIF(DATETIME_DIFF(dropoff_datetime, pickup_datetime, SECOND), 0)) AS MPS\n",
    "FROM (\n",
    "  SELECT\n",
    "    trip_distance, dropoff_datetime, pickup_datetime\n",
    "  FROM\n",
    "    `bigquery-public-data.new_york_taxi_trips.tlc_green_trips_2014` UNION ALL\n",
    "  SELECT\n",
    "    trip_distance, dropoff_datetime, pickup_datetime\n",
    "  FROM\n",
    "    `bigquery-public-data.new_york_taxi_trips.tlc_green_trips_2015` UNION ALL\n",
    "  SELECT\n",
    "    trip_distance, dropoff_datetime, pickup_datetime\n",
    "  FROM\n",
    "    `bigquery-public-data.new_york_taxi_trips.tlc_yellow_trips_2015` UNION ALL\n",
    "  SELECT\n",
    "    trip_distance, dropoff_datetime, pickup_datetime\n",
    "  FROM\n",
    "    `bigquery-public-data.new_york_taxi_trips.tlc_yellow_trips_2016` )\n",
    "WHERE \n",
    "    dropoff_datetime is not NULL\n",
    "    AND pickup_datetime is not NULL\n",
    "    AND trip_distance is not NULL\n",
    ")\n",
    "select \n",
    "    date,\n",
    "    AVG(MPS) as average_speed\n",
    "FROM temp\n",
    "GROUP BY date\n",
    "\"\"\", multipart=True)"
   ]
  },
  {
   "cell_type": "code",
   "execution_count": 17,
   "metadata": {
    "ExecuteTime": {
     "end_time": "2019-04-27T12:58:09.054407Z",
     "start_time": "2019-04-27T12:58:09.028651Z"
    }
   },
   "outputs": [
    {
     "name": "stdout",
     "output_type": "stream",
     "text": [
      "<class 'pandas.core.frame.DataFrame'>\n",
      "RangeIndex: 1110 entries, 0 to 1109\n",
      "Data columns (total 2 columns):\n",
      "date             1110 non-null object\n",
      "average_speed    1110 non-null float64\n",
      "dtypes: float64(1), object(1)\n",
      "memory usage: 17.4+ KB\n"
     ]
    }
   ],
   "source": [
    "ave_speed_df.info()"
   ]
  },
  {
   "cell_type": "code",
   "execution_count": 21,
   "metadata": {
    "ExecuteTime": {
     "end_time": "2019-04-27T14:01:46.188335Z",
     "start_time": "2019-04-27T14:01:46.157126Z"
    }
   },
   "outputs": [],
   "source": [
    "ave_speed_df.to_csv(\"./data/trips_ave_speed.csv.gz\", compression=\"gzip\", index=False)"
   ]
  },
  {
   "cell_type": "code",
   "execution_count": 7,
   "metadata": {
    "ExecuteTime": {
     "end_time": "2019-04-22T08:27:02.983717Z",
     "start_time": "2019-04-22T08:27:02.962501Z"
    }
   },
   "outputs": [
    {
     "name": "stdout",
     "output_type": "stream",
     "text": [
      "{\n",
      "  \"shell_port\": 45615,\n",
      "  \"iopub_port\": 41249,\n",
      "  \"stdin_port\": 52675,\n",
      "  \"control_port\": 59519,\n",
      "  \"hb_port\": 42443,\n",
      "  \"ip\": \"127.0.0.1\",\n",
      "  \"key\": \"a13301e9-e65509243b0497960a4c4d6b\",\n",
      "  \"transport\": \"tcp\",\n",
      "  \"signature_scheme\": \"hmac-sha256\",\n",
      "  \"kernel_name\": \"\"\n",
      "}\n",
      "\n",
      "Paste the above JSON into a file, and connect with:\n",
      "    $> jupyter <app> --existing <file>\n",
      "or, if you are local, you can connect with just:\n",
      "    $> jupyter <app> --existing kernel-e9747914-dd67-4e88-8d72-a7b50d044c92.json\n",
      "or even just:\n",
      "    $> jupyter <app> --existing\n",
      "if this is the most recent Jupyter kernel you have started.\n"
     ]
    }
   ],
   "source": [
    "%connect_info"
   ]
  }
 ],
 "metadata": {
  "celltoolbar": "Tags",
  "kernelspec": {
   "display_name": "Python 3",
   "language": "python",
   "name": "python3"
  },
  "language_info": {
   "codemirror_mode": {
    "name": "ipython",
    "version": 3
   },
   "file_extension": ".py",
   "mimetype": "text/x-python",
   "name": "python",
   "nbconvert_exporter": "python",
   "pygments_lexer": "ipython3",
   "version": "3.6.8"
  }
 },
 "nbformat": 4,
 "nbformat_minor": 2
}
